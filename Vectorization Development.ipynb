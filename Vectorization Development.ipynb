{
 "cells": [
  {
   "cell_type": "code",
   "execution_count": 11,
   "metadata": {},
   "outputs": [],
   "source": [
    "import numpy as np\n",
    "import pandas as pd\n",
    "import itertools\n",
    "from itertools import combinations, chain\n",
    "from scipy.special import comb"
   ]
  },
  {
   "cell_type": "code",
   "execution_count": 3,
   "metadata": {},
   "outputs": [],
   "source": [
    "value_dict = {\"2\": 2, \"3\": 3, \"4\": 4, \"5\": 5, \"6\": 6, \"7\":7, \"8\": 8, \"9\": 9, \"10\": 10, \"J\": 11, \"Q\": 12, \"K\": 13, \"A\": 14}\n",
    "suit_dict = {\"d\": 0, \"c\": 1, \"s\": 2, \"h\": 3}"
   ]
  },
  {
   "cell_type": "code",
   "execution_count": 4,
   "metadata": {},
   "outputs": [],
   "source": [
    "num = [\"2\", \"3\", \"4\", \"5\", \"6\", \"7\", \"8\", \"9\", \"10\", \"J\", \"Q\", \"K\", \"A\"]\n",
    "suit = [\"d\", \"c\", \"s\", \"h\"]"
   ]
  },
  {
   "cell_type": "code",
   "execution_count": 5,
   "metadata": {},
   "outputs": [],
   "source": [
    "deck = [n + ' ' +  s for n in num for s in suit]"
   ]
  },
  {
   "cell_type": "code",
   "execution_count": 7,
   "metadata": {},
   "outputs": [],
   "source": [
    "for idx, card in enumerate(deck):\n",
    "    deck[idx] = np.array(\n",
    "    [value_dict[card.split(' ')[0]], suit_dict[card.split(' ')[1]]])"
   ]
  },
  {
   "cell_type": "code",
   "execution_count": 8,
   "metadata": {},
   "outputs": [],
   "source": [
    "deck_arr = np.array(deck)"
   ]
  },
  {
   "cell_type": "code",
   "execution_count": 10,
   "metadata": {},
   "outputs": [],
   "source": [
    "def comb_index(n, k):\n",
    "    count = comb(n, k, exact=True)\n",
    "    index = np.fromiter(chain.from_iterable(combinations(range(n), k)), \n",
    "                        int, count=count*k)\n",
    "    return index.reshape(-1, k)"
   ]
  },
  {
   "cell_type": "code",
   "execution_count": 51,
   "metadata": {},
   "outputs": [
    {
     "name": "stdout",
     "output_type": "stream",
     "text": [
      "911 ms ± 15.7 ms per loop (mean ± std. dev. of 7 runs, 1 loop each)\n"
     ]
    }
   ],
   "source": [
    "%timeit total_idx = comb_index(52, 5)"
   ]
  },
  {
   "cell_type": "code",
   "execution_count": 52,
   "metadata": {},
   "outputs": [
    {
     "name": "stdout",
     "output_type": "stream",
     "text": [
      "391 ms ± 19.1 ms per loop (mean ± std. dev. of 7 runs, 1 loop each)\n"
     ]
    }
   ],
   "source": [
    "%timeit hand_combos = deck_arr[total_idx, :]"
   ]
  },
  {
   "cell_type": "code",
   "execution_count": 53,
   "metadata": {},
   "outputs": [
    {
     "name": "stdout",
     "output_type": "stream",
     "text": [
      "52.6 ms ± 1.06 ms per loop (mean ± std. dev. of 7 runs, 10 loops each)\n"
     ]
    }
   ],
   "source": [
    "%timeit other_hand = np.repeat(np.array([[[3,0], [4,0]]]), len(hand_combos), axis=0)"
   ]
  },
  {
   "cell_type": "code",
   "execution_count": 56,
   "metadata": {},
   "outputs": [],
   "source": [
    "# np.concatenate([hand_combos, other_hand], axis=1)"
   ]
  },
  {
   "cell_type": "code",
   "execution_count": 50,
   "metadata": {},
   "outputs": [
    {
     "name": "stdout",
     "output_type": "stream",
     "text": [
      "191 ms ± 2.19 ms per loop (mean ± std. dev. of 7 runs, 10 loops each)\n"
     ]
    }
   ],
   "source": [
    "%timeit np.concatenate([hand_combos, other_hand], axis=1)"
   ]
  },
  {
   "cell_type": "code",
   "execution_count": 58,
   "metadata": {},
   "outputs": [
    {
     "name": "stdout",
     "output_type": "stream",
     "text": [
      "132 µs ± 6.18 µs per loop (mean ± std. dev. of 7 runs, 10000 loops each)\n"
     ]
    }
   ],
   "source": [
    "%timeit hand_score(hand_combos[1, :, :])"
   ]
  },
  {
   "cell_type": "code",
   "execution_count": 69,
   "metadata": {},
   "outputs": [
    {
     "name": "stdout",
     "output_type": "stream",
     "text": [
      "164 ms ± 3.95 ms per loop (mean ± std. dev. of 7 runs, 10 loops each)\n"
     ]
    }
   ],
   "source": [
    "%timeit np.apply_along_axis(func1d=hand_score_2, arr=hand_combos[:1000, :, :].reshape(-1,10), axis=1)"
   ]
  },
  {
   "cell_type": "code",
   "execution_count": null,
   "metadata": {},
   "outputs": [],
   "source": [
    "%timeit parallel_apply_along_axis(func1d=hand_score_2, arr=hand_combos[:100, :, :].reshape(-1,10), axis=1)"
   ]
  },
  {
   "cell_type": "code",
   "execution_count": 68,
   "metadata": {
    "scrolled": true
   },
   "outputs": [
    {
     "name": "stdout",
     "output_type": "stream",
     "text": [
      "134 ms ± 2.94 ms per loop (mean ± std. dev. of 7 runs, 10 loops each)\n"
     ]
    }
   ],
   "source": [
    "%timeit np.array([hand_score(hand_combos[i, :, :]) for i in range(1000)])"
   ]
  },
  {
   "cell_type": "code",
   "execution_count": null,
   "metadata": {},
   "outputs": [],
   "source": [
    "import timeit\n",
    "\n",
    "start = timeit.default_timer()\n",
    "hand_scores = parallel_apply_along_axis(func1d=hand_score,\n",
    "    arr=hand_combos.reshape(-1, 10),\n",
    "    axis=1)\n",
    "end = timeit.default_timer()\n",
    "print(end - start)"
   ]
  },
  {
   "cell_type": "code",
   "execution_count": 62,
   "metadata": {},
   "outputs": [],
   "source": [
    "def hand_score(hand):\n",
    "        \n",
    "    hand_values = np.sort(hand[:, 0])[::-1]#np.sort(hand[[0,2,4,6,8]])[::-1]\n",
    "    hand_suits = hand[:, 1]#np.sort(hand[[1,3,5,7,9]])\n",
    "    \n",
    "    return assign_rank(hand_suits, hand_values)\n",
    "\n",
    "def hand_score_2(hand):\n",
    "        \n",
    "    hand_values = np.sort(hand[[0,2,4,6,8]])[::-1]\n",
    "    hand_suits = np.sort(hand[[1,3,5,7,9]])\n",
    "    \n",
    "    return assign_rank(hand_suits, hand_values)\n",
    "    \n",
    "\n",
    "def suit_check(hand_suits):\n",
    "    return np.all(hand_suits[0] == hand_suits)\n",
    "\n",
    "def straight_check(hand_values):\n",
    "    return np.all(hand_values == np.arange(hand_values[0], hand_values[0] - 5, -1)) | \\\n",
    "           np.all(hand_values == np.array([14,5,4,3,2]))\n",
    "\n",
    "def assign_rank(hand_suits, hand_values):\n",
    "    \n",
    "    is_suited = suit_check(hand_suits)\n",
    "    is_straight = straight_check(hand_values)\n",
    "    \n",
    "    if np.all(hand_values == np.array([2,3,4,5,14])):\n",
    "        hand_values = np.array([1,2,3,4,5])\n",
    "    \n",
    "    if is_suited and is_straight and hand_values[0] == 10:\n",
    "        rank = np.concatenate([np.array([10]),  hand_values])\n",
    "    elif is_suited and is_straight:\n",
    "        rank = np.concatenate([np.array([9]),  hand_values])\n",
    "    elif is_suited:\n",
    "        rank = np.concatenate([np.array([6]),  hand_values])\n",
    "    elif is_straight:\n",
    "        rank = np.concatenate([np.array([5]),  hand_values])\n",
    "    else:\n",
    "        val, count = np.unique(hand_values, return_counts=True)\n",
    "        rank = np.concatenate(\n",
    "                [np.array([rank_dict((max(count), min(count), len(count)))]),\n",
    "                 val[count.argsort()]])\n",
    "        \n",
    "#     print(rank)\n",
    "    return assign_hand_value(rank)\n",
    "\n",
    "def assign_hand_value(hand_array):\n",
    "        return int(np.sum(np.exp2(np.arange(20, 20 - len(hand_array) * 4, -4)) * hand_array))\n",
    "    \n",
    "def rank_dict(max_min_len):\n",
    "        rank_params_dict = {(4, 1, 2): 8, (3, 2, 2): 7, (3, 1, 3): 4, (2, 1, 3): 3, (2, 1, 4): 2, (1, 1, 5): 1}\n",
    "        return rank_params_dict[max_min_len]\n",
    "    \n",
    "    "
   ]
  },
  {
   "cell_type": "code",
   "execution_count": null,
   "metadata": {},
   "outputs": [],
   "source": []
  },
  {
   "cell_type": "code",
   "execution_count": 63,
   "metadata": {},
   "outputs": [],
   "source": [
    "import multiprocessing\n",
    "def parallel_apply_along_axis(func1d, axis, arr, *args, **kwargs):\n",
    "    \"\"\"\n",
    "    Like numpy.apply_along_axis(), but takes advantage of multiple\n",
    "    cores.\n",
    "    \"\"\"        \n",
    "    # Effective axis where apply_along_axis() will be applied by each\n",
    "    # worker (any non-zero axis number would work, so as to allow the use\n",
    "    # of `np.array_split()`, which is only done on axis 0):\n",
    "    effective_axis = 1 if axis == 0 else axis\n",
    "    if effective_axis != axis:\n",
    "        arr = arr.swapaxes(axis, effective_axis)\n",
    "\n",
    "    # Chunks for the mapping (only a few chunks):\n",
    "    chunks = [(func1d, effective_axis, sub_arr, args, kwargs)\n",
    "              for sub_arr in np.array_split(arr, multiprocessing.cpu_count())]\n",
    "\n",
    "    pool = multiprocessing.Pool()\n",
    "    individual_results = pool.map(unpacking_apply_along_axis, chunks)\n",
    "    # Freeing the workers:\n",
    "    pool.close()\n",
    "    pool.join()\n",
    "\n",
    "    return np.concatenate(individual_results)\n",
    "\n",
    "def unpacking_apply_along_axis(allargs):\n",
    "    \"\"\"\n",
    "    Like numpy.apply_along_axis(), but with arguments in a tuple\n",
    "    instead.\n",
    "\n",
    "    This function is useful with multiprocessing.Pool().map(): (1)\n",
    "    map() only handles functions that take a single argument, and (2)\n",
    "    this function can generally be imported from a module, as required\n",
    "    by map().\n",
    "    \"\"\"\n",
    "    (func1d, axis, arr, args, kwargs) = all_args"
   ]
  },
  {
   "cell_type": "code",
   "execution_count": null,
   "metadata": {},
   "outputs": [],
   "source": []
  }
 ],
 "metadata": {
  "kernelspec": {
   "display_name": "Python 3",
   "language": "python",
   "name": "python3"
  },
  "language_info": {
   "codemirror_mode": {
    "name": "ipython",
    "version": 3
   },
   "file_extension": ".py",
   "mimetype": "text/x-python",
   "name": "python",
   "nbconvert_exporter": "python",
   "pygments_lexer": "ipython3",
   "version": "3.7.4"
  }
 },
 "nbformat": 4,
 "nbformat_minor": 2
}
