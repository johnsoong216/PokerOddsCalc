{
 "cells": [
  {
   "cell_type": "code",
   "execution_count": 1,
   "metadata": {},
   "outputs": [],
   "source": [
    "from table import HoldemTable, OmahaTable"
   ]
  },
  {
   "cell_type": "markdown",
   "metadata": {},
   "source": [
    "# PokerOddsCalc\n",
    "\n",
    "---\n",
    "\n",
    "**PokerOddsCalc** is a simple poker hand probability calculation tool that supports Texas Holdem and Omaha.\n",
    "\n",
    "\n",
    "### Initialization\n",
    "\n",
    "--- \n",
    "\n",
    "Initialize with number of players and deck type(full or short deck(6 and above))"
   ]
  },
  {
   "cell_type": "code",
   "execution_count": 2,
   "metadata": {},
   "outputs": [],
   "source": [
    "holdem_game = HoldemTable(num_players=5, deck_type='full')"
   ]
  },
  {
   "cell_type": "markdown",
   "metadata": {},
   "source": [
    "### Deal Player Cards\n",
    "\n",
    "--- \n",
    "\n",
    "- Can Either Manually Add or Random Hand out Cards\n",
    "- Check the Current Table"
   ]
  },
  {
   "cell_type": "code",
   "execution_count": 3,
   "metadata": {},
   "outputs": [],
   "source": [
    "holdem_game.add_to_hand(1, ['Td', 'Ts'])"
   ]
  },
  {
   "cell_type": "code",
   "execution_count": 4,
   "metadata": {},
   "outputs": [
    {
     "name": "stderr",
     "output_type": "stream",
     "text": [
      "INFO:root:Giving Player 2 4h 8s\n",
      "INFO:root:Giving Player 3 Tc 7c\n",
      "INFO:root:Giving Player 4 6s 3c\n",
      "INFO:root:Giving Player 5 2d 5c\n"
     ]
    }
   ],
   "source": [
    "holdem_game.next_round() # Will hand out remaining players starting hand"
   ]
  },
  {
   "cell_type": "code",
   "execution_count": 5,
   "metadata": {},
   "outputs": [
    {
     "data": {
      "text/plain": [
       "{'Player 1': 'Td Ts',\n",
       " 'Player 2': '4h 8s',\n",
       " 'Player 3': 'Tc 7c',\n",
       " 'Player 4': '6s 3c',\n",
       " 'Player 5': '2d 5c',\n",
       " 'Community Cards': ''}"
      ]
     },
     "execution_count": 5,
     "metadata": {},
     "output_type": "execute_result"
    }
   ],
   "source": [
    "holdem_game.view_table()"
   ]
  },
  {
   "cell_type": "markdown",
   "metadata": {},
   "source": [
    "### Simulation\n",
    "\n",
    "--- \n",
    "\n",
    "- Set Number of Scenarios, default is 150000 for Holdem and 25000 for Omaha\n",
    "- Return Final Hand Probability\n",
    "- Return Three Types of Odds Calculation (Default is tie_win)\n",
    "    - win_any, any win counts as a win scenario for a player\n",
    "    - tie_win, any exclusive win counts as win, any tied win or tie counts as a tie\n",
    "    - precise, every possible outcome"
   ]
  },
  {
   "cell_type": "code",
   "execution_count": 6,
   "metadata": {},
   "outputs": [
    {
     "name": "stderr",
     "output_type": "stream",
     "text": [
      "INFO:root:15750000 Simulations in 2.77s\n"
     ]
    },
    {
     "data": {
      "text/plain": [
       "{'Player 1 Win': 50.31,\n",
       " 'Player 1 Tie': 3.84,\n",
       " 'Player 2 Win': 12.09,\n",
       " 'Player 2 Tie': 0.41,\n",
       " 'Player 3 Win': 11.4,\n",
       " 'Player 3 Tie': 3.84,\n",
       " 'Player 4 Win': 11.05,\n",
       " 'Player 4 Tie': 0.41,\n",
       " 'Player 5 Win': 11.31,\n",
       " 'Player 5 Tie': 0.41}"
      ]
     },
     "execution_count": 6,
     "metadata": {},
     "output_type": "execute_result"
    }
   ],
   "source": [
    "holdem_game.simulate()"
   ]
  },
  {
   "cell_type": "code",
   "execution_count": 7,
   "metadata": {},
   "outputs": [
    {
     "name": "stderr",
     "output_type": "stream",
     "text": [
      "INFO:root:52500000 Simulations in 10.32s\n"
     ]
    },
    {
     "data": {
      "text/plain": [
       "{'Player 1 Win': 50.21,\n",
       " 'Player 2 Win': 12.0,\n",
       " 'Player 3 Win': 11.44,\n",
       " 'Player 4 Win': 11.18,\n",
       " 'Player 5 Win': 11.29,\n",
       " 'Player 1,2 Tie': 0.0,\n",
       " 'Player 1,3 Tie': 3.48,\n",
       " 'Player 1,4 Tie': 0.0,\n",
       " 'Player 1,5 Tie': 0.0,\n",
       " 'Player 2,3 Tie': 0.0,\n",
       " 'Player 2,4 Tie': 0.0,\n",
       " 'Player 2,5 Tie': 0.0,\n",
       " 'Player 3,4 Tie': 0.0,\n",
       " 'Player 3,5 Tie': 0.0,\n",
       " 'Player 4,5 Tie': 0.0,\n",
       " 'Player 1,2,3 Tie': 0.0,\n",
       " 'Player 1,2,4 Tie': 0.0,\n",
       " 'Player 1,2,5 Tie': 0.0,\n",
       " 'Player 1,3,4 Tie': 0.0,\n",
       " 'Player 1,3,5 Tie': 0.0,\n",
       " 'Player 1,4,5 Tie': 0.0,\n",
       " 'Player 2,3,4 Tie': 0.0,\n",
       " 'Player 2,3,5 Tie': 0.0,\n",
       " 'Player 2,4,5 Tie': 0.0,\n",
       " 'Player 3,4,5 Tie': 0.0,\n",
       " 'Player 1,2,3,4 Tie': 0.0,\n",
       " 'Player 1,2,3,5 Tie': 0.0,\n",
       " 'Player 1,2,4,5 Tie': 0.0,\n",
       " 'Player 1,3,4,5 Tie': 0.0,\n",
       " 'Player 2,3,4,5 Tie': 0.0,\n",
       " 'Player 1,2,3,4,5 Tie': 0.39}"
      ]
     },
     "execution_count": 7,
     "metadata": {},
     "output_type": "execute_result"
    }
   ],
   "source": [
    "holdem_game.simulate(num_scenarios=500000, odds_type='precise')"
   ]
  },
  {
   "cell_type": "code",
   "execution_count": 8,
   "metadata": {},
   "outputs": [
    {
     "name": "stderr",
     "output_type": "stream",
     "text": [
      "INFO:root:15750000 Simulations in 2.69s\n"
     ]
    },
    {
     "data": {
      "text/plain": [
       "{'Tie': 0.42,\n",
       " 'Player 1': 53.62,\n",
       " 'Player 2': 12.04,\n",
       " 'Player 3': 14.89,\n",
       " 'Player 4': 11.21,\n",
       " 'Player 5': 11.25}"
      ]
     },
     "execution_count": 8,
     "metadata": {},
     "output_type": "execute_result"
    }
   ],
   "source": [
    "holdem_game.simulate(odds_type='win_any')"
   ]
  },
  {
   "cell_type": "code",
   "execution_count": 9,
   "metadata": {},
   "outputs": [
    {
     "name": "stderr",
     "output_type": "stream",
     "text": [
      "INFO:root:15750000 Simulations in 2.97s\n"
     ]
    },
    {
     "data": {
      "text/plain": [
       "{1: {'One Pair': 38.47,\n",
       "  'Two Pairs': 42.14,\n",
       "  'Three of a Kind': 7.6,\n",
       "  'Straight': 3.42,\n",
       "  'Flush': 2.18,\n",
       "  'Full House': 6.14,\n",
       "  'Four of a Kind': 0.02,\n",
       "  'Straight Flush': 0.03},\n",
       " 2: {'High Card': 16.02,\n",
       "  'One Pair': 43.83,\n",
       "  'Two Pairs': 25.69,\n",
       "  'Three of a Kind': 5.23,\n",
       "  'Straight': 3.1,\n",
       "  'Flush': 2.72,\n",
       "  'Full House': 3.19,\n",
       "  'Four of a Kind': 0.2,\n",
       "  'Straight Flush': 0.02},\n",
       " 3: {'High Card': 19.93,\n",
       "  'One Pair': 43.33,\n",
       "  'Two Pairs': 18.32,\n",
       "  'Three of a Kind': 3.89,\n",
       "  'Straight': 7.11,\n",
       "  'Flush': 5.74,\n",
       "  'Full House': 1.39,\n",
       "  'Four of a Kind': 0.1,\n",
       "  'Straight Flush': 0.19},\n",
       " 4: {'High Card': 16.23,\n",
       "  'One Pair': 43.84,\n",
       "  'Two Pairs': 25.76,\n",
       "  'Three of a Kind': 5.24,\n",
       "  'Straight': 4.16,\n",
       "  'Flush': 1.47,\n",
       "  'Full House': 3.1,\n",
       "  'Four of a Kind': 0.18,\n",
       "  'Straight Flush': 0.01},\n",
       " 5: {'High Card': 15.82,\n",
       "  'One Pair': 43.42,\n",
       "  'Two Pairs': 25.59,\n",
       "  'Three of a Kind': 5.13,\n",
       "  'Straight': 4.86,\n",
       "  'Flush': 1.89,\n",
       "  'Full House': 3.09,\n",
       "  'Four of a Kind': 0.19,\n",
       "  'Straight Flush': 0.01}}"
      ]
     },
     "execution_count": 9,
     "metadata": {},
     "output_type": "execute_result"
    }
   ],
   "source": [
    "win_draw_loss, final_hand = holdem_game.simulate(final_hand=True)\n",
    "final_hand"
   ]
  },
  {
   "cell_type": "markdown",
   "metadata": {},
   "source": [
    "### Next Round\n",
    "\n",
    "--- \n",
    "\n",
    "- Run Next Round and Update Odds\n",
    "- Check Game Result\n",
    "- Check Current Best Hand for each player"
   ]
  },
  {
   "cell_type": "code",
   "execution_count": 10,
   "metadata": {},
   "outputs": [
    {
     "name": "stderr",
     "output_type": "stream",
     "text": [
      "INFO:root:Flop card:  8c 4s Qh\n"
     ]
    }
   ],
   "source": [
    "holdem_game.next_round()"
   ]
  },
  {
   "cell_type": "code",
   "execution_count": 11,
   "metadata": {},
   "outputs": [
    {
     "data": {
      "text/plain": [
       "'Player 2 wins with a Two Pairs'"
      ]
     },
     "execution_count": 11,
     "metadata": {},
     "output_type": "execute_result"
    }
   ],
   "source": [
    "holdem_game.view_result()"
   ]
  },
  {
   "cell_type": "code",
   "execution_count": 12,
   "metadata": {},
   "outputs": [
    {
     "data": {
      "text/plain": [
       "{'Player 1 Current Hand': 'One Pair 4d 8s Qc Ts Th',\n",
       " 'Player 2 Current Hand': 'Two Pairs Qh 4s 4c 8s 8h',\n",
       " 'Player 3 Current Hand': 'High Card 4c 7c 8c Ts Qh',\n",
       " 'Player 4 Current Hand': 'High Card 3s 4c 6c 8s Qh',\n",
       " 'Player 5 Current Hand': 'High Card 2d 4c 5c 8s Qh'}"
      ]
     },
     "execution_count": 12,
     "metadata": {},
     "output_type": "execute_result"
    }
   ],
   "source": [
    "holdem_game.view_hand()"
   ]
  },
  {
   "cell_type": "code",
   "execution_count": 13,
   "metadata": {},
   "outputs": [
    {
     "name": "stderr",
     "output_type": "stream",
     "text": [
      "INFO:root:77805 Simulations in 0.21s\n"
     ]
    },
    {
     "data": {
      "text/plain": [
       "{'Player 1 Win': 20.51,\n",
       " 'Player 1 Tie': 2.02,\n",
       " 'Player 2 Win': 63.43,\n",
       " 'Player 2 Tie': 0.0,\n",
       " 'Player 3 Win': 5.94,\n",
       " 'Player 3 Tie': 2.02,\n",
       " 'Player 4 Win': 3.24,\n",
       " 'Player 4 Tie': 0.0,\n",
       " 'Player 5 Win': 4.86,\n",
       " 'Player 5 Tie': 0.0}"
      ]
     },
     "execution_count": 13,
     "metadata": {},
     "output_type": "execute_result"
    }
   ],
   "source": [
    "holdem_game.simulate()"
   ]
  },
  {
   "cell_type": "code",
   "execution_count": 14,
   "metadata": {},
   "outputs": [
    {
     "name": "stderr",
     "output_type": "stream",
     "text": [
      "INFO:root:Turn card:  9s\n"
     ]
    }
   ],
   "source": [
    "holdem_game.next_round()"
   ]
  },
  {
   "cell_type": "code",
   "execution_count": 16,
   "metadata": {},
   "outputs": [
    {
     "data": {
      "text/plain": [
       "'Player 2 wins with a Two Pairs'"
      ]
     },
     "execution_count": 16,
     "metadata": {},
     "output_type": "execute_result"
    }
   ],
   "source": [
    "holdem_game.view_result()"
   ]
  },
  {
   "cell_type": "code",
   "execution_count": 17,
   "metadata": {},
   "outputs": [
    {
     "name": "stderr",
     "output_type": "stream",
     "text": [
      "INFO:root:3990 Simulations in 0.11s\n"
     ]
    },
    {
     "data": {
      "text/plain": [
       "({'Player 1 Win': 18.42,\n",
       "  'Player 1 Tie': 10.53,\n",
       "  'Player 2 Win': 63.16,\n",
       "  'Player 2 Tie': 0.0,\n",
       "  'Player 3 Win': 7.89,\n",
       "  'Player 3 Tie': 10.53,\n",
       "  'Player 4 Win': 0.0,\n",
       "  'Player 4 Tie': 0.0,\n",
       "  'Player 5 Win': 0.0,\n",
       "  'Player 5 Tie': 0.0},\n",
       " {1: {'One Pair': 60.53,\n",
       "   'Two Pairs': 26.32,\n",
       "   'Three of a Kind': 2.63,\n",
       "   'Straight': 10.53},\n",
       "  2: {'Two Pairs': 89.47, 'Full House': 10.53},\n",
       "  3: {'High Card': 44.74, 'One Pair': 36.84, 'Straight': 18.42},\n",
       "  4: {'High Card': 57.89, 'One Pair': 42.11},\n",
       "  5: {'High Card': 57.89, 'One Pair': 42.11}})"
      ]
     },
     "execution_count": 17,
     "metadata": {},
     "output_type": "execute_result"
    }
   ],
   "source": [
    "holdem_game.simulate(final_hand=True)"
   ]
  },
  {
   "cell_type": "code",
   "execution_count": 18,
   "metadata": {},
   "outputs": [
    {
     "data": {
      "text/plain": [
       "{'Player 1 Current Hand': 'One Pair 8d 9s Qc Th Ts',\n",
       " 'Player 2 Current Hand': 'Two Pairs Qh 4s 4c 8s 8h',\n",
       " 'Player 3 Current Hand': 'High Card 7c 8c 9c Th Qs',\n",
       " 'Player 4 Current Hand': 'High Card 4s 6c 8s 9h Qs',\n",
       " 'Player 5 Current Hand': 'High Card 4c 5c 8s 9h Qs'}"
      ]
     },
     "execution_count": 18,
     "metadata": {},
     "output_type": "execute_result"
    }
   ],
   "source": [
    "holdem_game.view_hand()"
   ]
  },
  {
   "cell_type": "code",
   "execution_count": 21,
   "metadata": {},
   "outputs": [],
   "source": [
    "holdem_game.next_round()"
   ]
  },
  {
   "cell_type": "code",
   "execution_count": 20,
   "metadata": {},
   "outputs": [
    {
     "data": {
      "text/plain": [
       "'Player 1 wins with a Two Pairs'"
      ]
     },
     "execution_count": 20,
     "metadata": {},
     "output_type": "execute_result"
    }
   ],
   "source": [
    "holdem_game.view_result()"
   ]
  },
  {
   "cell_type": "markdown",
   "metadata": {},
   "source": [
    "## Omaha\n",
    "---\n",
    "\n",
    "Functions are exactly identical in Omaha. However calculations are slower in Omaha because 60 different combinations are possible with one simulation"
   ]
  },
  {
   "cell_type": "code",
   "execution_count": 35,
   "metadata": {},
   "outputs": [],
   "source": [
    "omaha_game = OmahaTable(num_players=3, deck_type='short')"
   ]
  },
  {
   "cell_type": "code",
   "execution_count": 36,
   "metadata": {},
   "outputs": [
    {
     "name": "stderr",
     "output_type": "stream",
     "text": [
      "INFO:root:Giving Player 1 7d Qs 8d Qd\n",
      "INFO:root:Giving Player 2 7h 9c Ac Ah\n",
      "INFO:root:Giving Player 3 Ad 8c Js Qc\n"
     ]
    },
    {
     "data": {
      "text/plain": [
       "{'Player 1': '7d Qs 8d Qd',\n",
       " 'Player 2': '7h 9c Ac Ah',\n",
       " 'Player 3': 'Ad 8c Js Qc',\n",
       " 'Community Cards': ''}"
      ]
     },
     "execution_count": 36,
     "metadata": {},
     "output_type": "execute_result"
    }
   ],
   "source": [
    "omaha_game.next_round()\n",
    "omaha_game.view_table()"
   ]
  },
  {
   "cell_type": "code",
   "execution_count": 37,
   "metadata": {},
   "outputs": [
    {
     "name": "stderr",
     "output_type": "stream",
     "text": [
      "INFO:root:4500000 Simulations in 3.07s\n"
     ]
    }
   ],
   "source": [
    "win_tie_loss, final_hand = omaha_game.simulate(final_hand=True)"
   ]
  },
  {
   "cell_type": "code",
   "execution_count": 38,
   "metadata": {},
   "outputs": [
    {
     "data": {
      "text/plain": [
       "{'Player 1 Win': 16.67,\n",
       " 'Player 1 Tie': 4.39,\n",
       " 'Player 2 Win': 50.67,\n",
       " 'Player 2 Tie': 0.0,\n",
       " 'Player 3 Win': 28.27,\n",
       " 'Player 3 Tie': 4.39}"
      ]
     },
     "execution_count": 38,
     "metadata": {},
     "output_type": "execute_result"
    }
   ],
   "source": [
    "win_tie_loss"
   ]
  },
  {
   "cell_type": "code",
   "execution_count": 39,
   "metadata": {},
   "outputs": [
    {
     "data": {
      "text/plain": [
       "{1: {'One Pair': 7.09,\n",
       "  'Two Pairs': 39.08,\n",
       "  'Three of a Kind': 11.6,\n",
       "  'Straight': 19.73,\n",
       "  'Flush': 3.07,\n",
       "  'Full House': 18.47,\n",
       "  'Straight Flush': 0.97},\n",
       " 2: {'One Pair': 5.48,\n",
       "  'Two Pairs': 33.15,\n",
       "  'Three of a Kind': 13.04,\n",
       "  'Straight': 12.38,\n",
       "  'Flush': 15.5,\n",
       "  'Full House': 19.89,\n",
       "  'Four of a Kind': 0.56},\n",
       " 3: {'One Pair': 7.69,\n",
       "  'Two Pairs': 32.0,\n",
       "  'Three of a Kind': 8.6,\n",
       "  'Straight': 40.65,\n",
       "  'Flush': 4.1,\n",
       "  'Full House': 6.47,\n",
       "  'Four of a Kind': 0.49}}"
      ]
     },
     "execution_count": 39,
     "metadata": {},
     "output_type": "execute_result"
    }
   ],
   "source": [
    "final_hand"
   ]
  },
  {
   "cell_type": "code",
   "execution_count": 40,
   "metadata": {},
   "outputs": [
    {
     "name": "stderr",
     "output_type": "stream",
     "text": [
      "INFO:root:Flop card:  7s Ts As\n",
      "INFO:root:37800 Simulations in 0.21s\n"
     ]
    },
    {
     "data": {
      "text/plain": [
       "{'Player 1 Win': 0.0,\n",
       " 'Player 1 Tie': 4.29,\n",
       " 'Player 2 Win': 60.95,\n",
       " 'Player 2 Tie': 0.0,\n",
       " 'Player 3 Win': 34.76,\n",
       " 'Player 3 Tie': 4.29}"
      ]
     },
     "execution_count": 40,
     "metadata": {},
     "output_type": "execute_result"
    }
   ],
   "source": [
    "omaha_game.next_round()\n",
    "omaha_game.simulate()"
   ]
  },
  {
   "cell_type": "code",
   "execution_count": 41,
   "metadata": {},
   "outputs": [
    {
     "data": {
      "text/plain": [
       "'Player 2 wins with a Three of a Kind'"
      ]
     },
     "execution_count": 41,
     "metadata": {},
     "output_type": "execute_result"
    }
   ],
   "source": [
    "omaha_game.view_result()"
   ]
  },
  {
   "cell_type": "code",
   "execution_count": 42,
   "metadata": {},
   "outputs": [
    {
     "data": {
      "text/plain": [
       "{'Player 1 Current Hand': 'One Pair 7s Td As Qs Qs',\n",
       " 'Player 2 Current Hand': 'Three of a Kind 7c Ah Ts As As',\n",
       " 'Player 3 Current Hand': 'One Pair 7d Tc Qs As As'}"
      ]
     },
     "execution_count": 42,
     "metadata": {},
     "output_type": "execute_result"
    }
   ],
   "source": [
    "omaha_game.view_hand()"
   ]
  },
  {
   "cell_type": "code",
   "execution_count": null,
   "metadata": {},
   "outputs": [],
   "source": []
  }
 ],
 "metadata": {
  "kernelspec": {
   "display_name": "analysis_env",
   "language": "python",
   "name": "analysis_env"
  },
  "language_info": {
   "codemirror_mode": {
    "name": "ipython",
    "version": 3
   },
   "file_extension": ".py",
   "mimetype": "text/x-python",
   "name": "python",
   "nbconvert_exporter": "python",
   "pygments_lexer": "ipython3",
   "version": "3.7.4"
  }
 },
 "nbformat": 4,
 "nbformat_minor": 2
}
